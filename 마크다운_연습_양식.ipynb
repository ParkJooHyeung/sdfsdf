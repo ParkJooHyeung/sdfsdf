{
  "nbformat": 4,
  "nbformat_minor": 0,
  "metadata": {
    "colab": {
      "provenance": []
    },
    "kernelspec": {
      "name": "python3",
      "display_name": "Python 3"
    },
    "language_info": {
      "name": "python"
    },
    "accelerator": "GPU",
    "gpuClass": "standard"
  },
  "cells": [
    {
      "cell_type": "markdown",
      "source": [
        "#머신러닝의 이해  \n",
        "##마크다운_연습 양식\n",
        "\n",
        "---\n",
        "#개요  \n",
        "1. 이론  \n",
        "+ 머신러닝\n",
        "2. 실험기기   \n",
        "+ Google Colab\n",
        "3. 예비보고서 문제   \n",
        "4. 실험순서\n",
        "\n",
        "---   \n",
        "#이론\n",
        "###머신러닝의 정의  \n",
        "  \n",
        "####머신러닝은 학습과 개선을 토대로 컴퓨터에 원시적인 프로그래밍 대신, 컴퓨터가 스스로 방대한 데이터를 바탕으로 학습하고 경험을 통해 어떠한 문제에 대해 해결하는데 있어서 훈련하는 것에 의의를 둔 인공지능(AI)의 하위 집합 기술이다. 이것은 방식에 따라 세가지의 학습방법이 존재한다.  \n",
        "\n",
        "* _지도 학습(Supervised Learning)_   \n",
        "  데이터에서 반복적으로 학습하는 알고리즘을 사용하여 컴퓨터가 어디를 찾아봐야 하는 지를 명시적으로 프로그래밍하지 않고도 숨겨진 통찰력을 찾을 수 있도록 하는 데이터 분석 방법이다.  \n",
        "  ![지도 학습 자료](http://terms.tta.or.kr/upload/image/terms2018/15%20Supervised%20learning.jpg)\n",
        "* _비지도 학습(Unsupervised Learning)_\n",
        "  비지도 학습은 학습 알고리즘에 결과물이라고 할 수 있는 출력을 미리 제공하지 않고 인공지능(AI)이 입력 세트에서 패턴과 상관관계를 찾아내야 하는 머신러닝 알고리즘이다.  \n",
        "  ![비지도 학습 자료](https://blog.skby.net/wp-content/uploads/2019/09/Unsupervised-Learning-Cencept.png)\n",
        "* _강화 학습(Reinforcement Learning)_  \n",
        "  데이터 점 또는 경험은 훈련하는 동안 환경과 소프트웨어 에이전트 간의 시행착오 상호작용을 통해 수집되고 강화학습의 이런 점은 지도 및 비지도 머신러닝에서는 필요한 훈련 전 데이터 수집, 전처리 및 레이블 지정에 대한 필요성을 해소하기 때문에 중요하다. 이는 실질적으로 적절한 인센티브가 주어지면 강화학습 모델은 인간의 개입 없이 학습 행동을 자체적으로 시작할 수 있다는 것을 의미한다.   \n",
        "![강화 학습 자료](https://s3-ap-northeast-2.amazonaws.com/opentutorials-user-file/module/4916/12365.jpeg)\n",
        "---   \n",
        "#실험기기   \n",
        "##Google Colab   \n",
        "####웹을 통해 텍스트 기반의 코딩을 할 수 있도록 제공되는 edito로써 Python을 바탕으로 빠른 연산을 가능케 하는 클라우드 컴퓨팅이다.   \n"
      ],
      "metadata": {
        "id": "lsbKlf806R8F"
      }
    },
    {
      "cell_type": "markdown",
      "source": [
        "###플랫폼(OS) 확인"
      ],
      "metadata": {
        "id": "PbgUSl34-lX5"
      }
    },
    {
      "cell_type": "markdown",
      "source": [
        "import platform\n",
        "platform.platform()"
      ],
      "metadata": {
        "id": "YF7plW4o8S0S"
      }
    },
    {
      "cell_type": "markdown",
      "source": [
        "###하드웨어 사양 확인"
      ],
      "metadata": {
        "id": "7kRZwrP99LCb"
      }
    },
    {
      "cell_type": "code",
      "source": [
        "!cat /proc/cpuinfo"
      ],
      "metadata": {
        "id": "bp8DFvIi9CR8"
      },
      "execution_count": null,
      "outputs": []
    },
    {
      "cell_type": "code",
      "source": [
        "!cat /proc/meminfo"
      ],
      "metadata": {
        "id": "85hxprCg9WEE"
      },
      "execution_count": null,
      "outputs": []
    },
    {
      "cell_type": "code",
      "source": [
        "!df -h"
      ],
      "metadata": {
        "id": "_YIdZG6A9Zjr"
      },
      "execution_count": null,
      "outputs": []
    },
    {
      "cell_type": "markdown",
      "source": [
        "###Python 버전 확인"
      ],
      "metadata": {
        "id": "M1hn9TB89njj"
      }
    },
    {
      "cell_type": "code",
      "source": [
        "!python --version"
      ],
      "metadata": {
        "id": "mnXtHocx9sJ1"
      },
      "execution_count": null,
      "outputs": []
    },
    {
      "cell_type": "markdown",
      "source": [
        "#GPU 확인\n",
        "\n",
        "> 들여쓴 블록\n",
        "\n"
      ],
      "metadata": {
        "id": "wZzU9rlo9x0q"
      }
    },
    {
      "cell_type": "code",
      "source": [
        "!nvidia-smi"
      ],
      "metadata": {
        "id": "x4_C9_Jb93wO"
      },
      "execution_count": null,
      "outputs": []
    },
    {
      "cell_type": "markdown",
      "source": [
        "###Colab-Drive Mount"
      ],
      "metadata": {
        "id": "zyrJ0GkH98Ne"
      }
    },
    {
      "cell_type": "code",
      "source": [
        "from google.colab import drive\n",
        "drive.mount('/content/drive')"
      ],
      "metadata": {
        "id": "VbcYtx4L-AbW"
      },
      "execution_count": null,
      "outputs": []
    },
    {
      "cell_type": "markdown",
      "source": [
        "###단축키   \n",
        "![단축키](https://blog.kakaocdn.net/dn/7qhDr/btqIhrAP2Cl/yNeEq1T7zETUe3NjbvBTZk/img.png)\n",
        "###사용법    \n",
        "\n",
        "* 타이틀   \n",
        "# H1\n",
        "## H2\n",
        "### H3\n",
        "#### H4\n",
        "##### H5\n",
        "###### H6   \n",
        "   \n",
        "* 강조  \n",
        " **진하게**   \n",
        "<u>밑줄</u>   \n",
        "~~취소~~   \n",
        "_이탤릭_   \n",
        "   \n",
        "* 문장 줄바꿈   \n",
        "문장\n",
        "줄바꿈\n",
        "안함  \n",
        "문장  \n",
        "줄바꿈  \n",
        "함  \n",
        "  \n",
        "* 블럭(인용) 들여쓰기  \n",
        "> 블럭 1단계  \n",
        ">> 블럭 2단계  \n",
        "  \n",
        "* 목록  \n",
        "* 사과\n",
        "* 오렌지\n",
        "  + 딸기\n",
        "  + 파인애플  \n",
        "- 포도\n",
        "- 바나나\n",
        "1. 참외\n",
        "2. 수박\n",
        "  \n",
        "* Code Block  \n",
        "```python\n",
        "import something\n",
        "a = 10\n",
        "print(a)\n",
        "if a>10:\n",
        "  print(a)\n",
        "```   \n",
        "문장내  `code` 삽입\n",
        "  \n",
        "* 하이퍼링크  \n",
        "[바로가기](http://google.com)  \n",
        "<http://google.com>  \n",
        "  \n",
        "* 수평선  \n",
        "***\n",
        "수평선  \n",
        "  \n",
        "---  \n",
        "  \n",
        "* 표   \n",
        "\n",
        "|1열|2열|3열|\n",
        "|:-------|----:|:---:|\n",
        "|왼쪽|오른쪽|가운데|\n",
        "|정렬하기|정렬하기|정렬하기|\n",
        "|테스트|테스트|테스트|  \n",
        "  \n",
        "* 그림  \n",
        "![광운대학교](https://mblogthumb-phinf.pstatic.net/MjAxOTA4MDZfMTAx/MDAxNTY1MDcyMzgwNjA2.nnlVu6YB9FHsjhtqlLRM5w634RL8DmGDUED347bvxs8g.9vUP2i5HRpiuVT2yJkPzxjCj9OJizvb2zT-rFU-pryEg.JPEG.kw1934/IMG_6428.JPG?type=w800)  \n",
        "  \n",
        "* 체크박스  \n",
        "* [ ] 비어있는 체크박스\n",
        "* [x] 체크된 체크박스  \n",
        "  \n",
        "* 수식  \n",
        "$$\n",
        "\\begin{aligned}\n",
        "f(x)&=ax^2+bx+c\\\\\n",
        "g(x)&=Ax^4\n",
        "\\end{aligned}\n",
        "$$  \n",
        "  \n",
        "$\\frac{1+s}{s(s+2)}$ 삽입\n",
        "$$\\frac{1+s}{s(s+2)}$$  \n",
        "  \n",
        "$\\displaystyle\\lim_{s\\to\\infty}{s^2}$\n",
        "$\\displaystyle\\sum_{i=0}^{\\infty}{(y_i-t_i)^2}$  \n",
        "  \n",
        "$\\begin{matrix}1&2\\\\3&4\\\\ \\end{matrix}$\n",
        "$\\begin{pmatrix}1&2\\\\3&4\\\\ \\end{pmatrix}$\n",
        "$\\begin{bmatrix}1&2\\\\3&4\\\\ \\end{bmatrix}$\n",
        "$\\begin{Bmatrix}1&2\\\\3&4\\\\ \\end{Bmatrix}$\n",
        "$\\begin{vmatrix}1&2\\\\3&4\\\\ \\end{vmatrix}$\n",
        "$\\begin{Vmatrix}1&2\\\\3&4\\\\ \\end{Vmatrix}$\n",
        "\n",
        "\n",
        "\n",
        "\n",
        "\n"
      ],
      "metadata": {
        "id": "uB2ToJ0_8TLq"
      }
    },
    {
      "cell_type": "markdown",
      "source": [
        "---  \n",
        "###이미지 띄워보기 연습\n",
        "![머신러닝 자료](https://images.velog.io/images/kmnkit/post/2104bef0-3c9a-406b-ba6f-7f76578f5bf9/machine-learning.jpeg)   \n",
        "\n",
        "###표 그리기 연습\n",
        "|품목|단가|개수|금액|\n",
        "|:------|----:|:--:|-----:|\n",
        "|브로콜리|1,500|5|7,500|\n",
        "|가지|1,000|10|10,000|\n",
        "|아스파라거스|1,000|15|15,000|  \n",
        "\n",
        "###수식 표시 연습  \n",
        "\n",
        "$$\n",
        "\\begin{align}\n",
        "f(x)&=\\int_{0}^{10}\\frac{2x^2+4x+6}{x-2}\n",
        "\\end{align}\n",
        "$$\n",
        "  \n",
        "###Known Bugs\n",
        "  \n",
        "* 알려진 <u>버그</u> 없음\n",
        "    \n",
        "###University\n",
        "> [광운대학교](https://www.kw.ac.kr/ko/)  "
      ],
      "metadata": {
        "id": "UJjkvVaNIeWj"
      }
    }
  ]
}